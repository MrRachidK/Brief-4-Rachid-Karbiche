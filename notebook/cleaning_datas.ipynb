{
 "metadata": {
  "language_info": {
   "codemirror_mode": {
    "name": "ipython",
    "version": 3
   },
   "file_extension": ".py",
   "mimetype": "text/x-python",
   "name": "python",
   "nbconvert_exporter": "python",
   "pygments_lexer": "ipython3",
   "version": "3.8.5-final"
  },
  "orig_nbformat": 2,
  "kernelspec": {
   "name": "python3",
   "display_name": "Python 3.8.5 64-bit ('base': conda)",
   "metadata": {
    "interpreter": {
     "hash": "5b9c502b618e97131917a2f1409b4700bb639cdf99ce16cd88a0e27a90524386"
    }
   }
  }
 },
 "nbformat": 4,
 "nbformat_minor": 2,
 "cells": [
  {
   "source": [
    "## Import du module Pandas et lecture des bases de données (numéro 1 : réponses à un sondage de salariés, numéro 2 : offres d'emploi)"
   ],
   "cell_type": "markdown",
   "metadata": {}
  },
  {
   "cell_type": "code",
   "execution_count": 19,
   "metadata": {},
   "outputs": [],
   "source": [
    "# Import of the useful libraries\n",
    "import pandas as pd\n",
    "import sqlite3\n",
    "\n",
    "# Import of sys so that Python recognizes the folders as modules. Besides, we have created empty __init__.py files to use our files as modules too\n",
    "import sys\n",
    "sys.path.insert(0, \"/home/apprenant/Documents/Brief-4-Rachid-Karbiche\")\n",
    "\n",
    "# Import of the objects of our py files\n",
    "from src.d02_intermediate.integrate_data import save_to_sql\n",
    "from src.d01_data.create_database import conn, cur\n",
    "\n",
    "# Reading of our first database Salary Survey Responses\n",
    "survey_path = '../Data/01_raw/2020_Data_Professional_Salary_Survey_Responses.xlsx'\n",
    "survey_data = pd.read_excel(survey_path, engine='openpyxl', skiprows=3)\n",
    "\n",
    "# Reading of our second database DataAnalyst\n",
    "job_applying_path = '../Data/01_raw/DataAnalyst.csv'\n",
    "job_applying_data = pd.read_csv(job_applying_path)\n"
   ]
  },
  {
   "source": [
    "## 1. BDD 1 : Examen de la base de données et suppression des colonnes inutiles pour le brief"
   ],
   "cell_type": "markdown",
   "metadata": {}
  },
  {
   "source": [
    "Pour cette première phase, analysons la structure de notre base de données"
   ],
   "cell_type": "markdown",
   "metadata": {}
  },
  {
   "cell_type": "code",
   "execution_count": 20,
   "metadata": {},
   "outputs": [
    {
     "output_type": "stream",
     "name": "stdout",
     "text": [
      "   Survey Year               Timestamp  SalaryUSD        Country PostalCode  \\\n0         2020 2020-01-04 18:50:34.328   115000.0  United States         03   \n1         2020 2020-01-04 10:43:01.821   100000.0  United States        NaN   \n2         2020 2020-01-04 09:51:45.885   100000.0          Spain      28046   \n3         2020 2020-01-04 01:08:53.605    70000.0  United States      94133   \n4         2020 2020-01-03 15:28:54.163   110000.0  United States      95354   \n\n        PrimaryDatabase  YearsWithThisDatabase  \\\n0  Microsoft SQL Server                     15   \n1                 Other                      6   \n2  Microsoft SQL Server                      2   \n3  Microsoft SQL Server                      3   \n4                Oracle                     30   \n\n                                      OtherDatabases    EmploymentStatus  \\\n0  Microsoft SQL Server, MongoDB, Azure SQL DB (a...  Full time employee   \n1                                      MySQL/MariaDB  Full time employee   \n2                                      MySQL/MariaDB  Full time employee   \n3                                   Microsoft Access  Full time employee   \n4  Microsoft SQL Server, Oracle, MySQL/MariaDB, P...  Full time employee   \n\n                                            JobTitle  ...  \\\n0  DBA (Production Focus - build & troubleshoot s...  ...   \n1                  Developer: App code (C#, JS, etc)  ...   \n2                                              Other  ...   \n3                                            Analyst  ...   \n4  DBA (General - splits time evenly between writ...  ...   \n\n  NewestVersionInProduction  OldestVersionInProduction  \\\n0           SQL Server 2019            SQL Server 2016   \n1                  informix                   informix   \n2           SQL Server 2017            SQL Server 2017   \n3           SQL Server 2016            SQL Server 2012   \n4           SQL Server 2016          SQL Server 2008R2   \n\n  PopulationOfLargestCityWithin20Miles  EmploymentSector LookingForAnotherJob  \\\n0                 20K-99K (large town)  Private business            Not Asked   \n1                     1M+ (metropolis)  Private business            Not Asked   \n2                     1M+ (metropolis)  Private business            Not Asked   \n3                     1M+ (metropolis)  Private business            Not Asked   \n4                     100K-299K (city)        Non-profit            Not Asked   \n\n                      CareerPlansThisYear Gender OtherJobDuties  \\\n0  Stay with the same employer, same role   Male      Not Asked   \n1                       Prefer not to say   Male      Not Asked   \n2  Stay with the same employer, same role   Male      Not Asked   \n3         Change both employers and roles   Male      Not Asked   \n4  Stay with the same employer, same role   Male      Not Asked   \n\n  KindsOfTasksPerformed Counter  \n0             Not Asked       1  \n1             Not Asked       1  \n2             Not Asked       1  \n3             Not Asked       1  \n4             Not Asked       1  \n\n[5 rows x 31 columns]\nIndex(['Survey Year', 'Timestamp', 'SalaryUSD', 'Country', 'PostalCode',\n       'PrimaryDatabase', 'YearsWithThisDatabase', 'OtherDatabases',\n       'EmploymentStatus', 'JobTitle', 'ManageStaff', 'YearsWithThisTypeOfJob',\n       'HowManyCompanies', 'OtherPeopleOnYourTeam', 'CompanyEmployeesOverall',\n       'DatabaseServers', 'Education', 'EducationIsComputerRelated',\n       'Certifications', 'HoursWorkedPerWeek', 'TelecommuteDaysPerWeek',\n       'NewestVersionInProduction', 'OldestVersionInProduction',\n       'PopulationOfLargestCityWithin20Miles', 'EmploymentSector',\n       'LookingForAnotherJob', 'CareerPlansThisYear', 'Gender',\n       'OtherJobDuties', 'KindsOfTasksPerformed', 'Counter'],\n      dtype='object')\n(8627, 31)\n"
     ]
    }
   ],
   "source": [
    "print(survey_data.head())\n",
    "print(survey_data.columns)\n",
    "print(survey_data.shape)"
   ]
  },
  {
   "source": [
    "La base de données est composée de 8 627 entrées pour 31 colonnes. Parmi elles, certaines ne seront pas utiles dans l'étude de la base de données."
   ],
   "cell_type": "markdown",
   "metadata": {}
  },
  {
   "source": [
    "### Quelles colonnes conserver ?"
   ],
   "cell_type": "markdown",
   "metadata": {}
  },
  {
   "cell_type": "code",
   "execution_count": 21,
   "metadata": {},
   "outputs": [
    {
     "output_type": "stream",
     "name": "stdout",
     "text": [
      "   SalaryUSD        Country PostalCode    EmploymentStatus  \\\n0   115000.0  United States         03  Full time employee   \n1   100000.0  United States        NaN  Full time employee   \n2   100000.0          Spain      28046  Full time employee   \n3    70000.0  United States      94133  Full time employee   \n4   110000.0  United States      95354  Full time employee   \n\n                                            JobTitle  YearsWithThisTypeOfJob  \\\n0  DBA (Production Focus - build & troubleshoot s...                       5   \n1                  Developer: App code (C#, JS, etc)                       6   \n2                                              Other                       3   \n3                                            Analyst                       3   \n4  DBA (General - splits time evenly between writ...                      25   \n\n                                    HowManyCompanies OtherPeopleOnYourTeam  \\\n0  1 (this is the only company where I've had thi...                     2   \n1  1 (this is the only company where I've had thi...           More than 5   \n2  1 (this is the only company where I've had thi...                     1   \n3  1 (this is the only company where I've had thi...                     2   \n4                                                  3                  None   \n\n  PopulationOfLargestCityWithin20Miles  \\\n0                 20K-99K (large town)   \n1                     1M+ (metropolis)   \n2                     1M+ (metropolis)   \n3                     1M+ (metropolis)   \n4                     100K-299K (city)   \n\n                      CareerPlansThisYear Gender  \n0  Stay with the same employer, same role   Male  \n1                       Prefer not to say   Male  \n2  Stay with the same employer, same role   Male  \n3         Change both employers and roles   Male  \n4  Stay with the same employer, same role   Male  \n"
     ]
    }
   ],
   "source": [
    "survey_data = survey_data[['SalaryUSD','Country','PostalCode','EmploymentStatus','JobTitle','YearsWithThisTypeOfJob',\n",
    "          'HowManyCompanies','OtherPeopleOnYourTeam',\n",
    "          'PopulationOfLargestCityWithin20Miles', 'CareerPlansThisYear',\n",
    "          'Gender']]\n",
    "print(survey_data.head())"
   ]
  },
  {
   "source": [
    "Dans le cadre de mon travail, j'ai choisi de conserver onze d'entre elles. J'aurais pu en conserver davantage, notamment dans le cadre de la question sur le plan de carrière de notre rêve américain. D'ailleurs, pour celle-ci, j'ai gardé les colonnes EmploymentStatus, CareerPlansThisYear et PopulationOfLargestCityWithin20Miles."
   ],
   "cell_type": "markdown",
   "metadata": {}
  },
  {
   "source": [
    "## 2. BDD1 : vérification des données manquantes dans la base de données"
   ],
   "cell_type": "markdown",
   "metadata": {}
  },
  {
   "cell_type": "code",
   "execution_count": 22,
   "metadata": {},
   "outputs": [
    {
     "output_type": "stream",
     "name": "stdout",
     "text": [
      "SalaryUSD                                  0\nCountry                                    0\nPostalCode                              1390\nEmploymentStatus                           0\nJobTitle                                   0\nYearsWithThisTypeOfJob                     0\nHowManyCompanies                           0\nOtherPeopleOnYourTeam                      0\nPopulationOfLargestCityWithin20Miles       0\nCareerPlansThisYear                        0\nGender                                     0\ndtype: int64\n16.112205865306596 % de données manquantes\n"
     ]
    }
   ],
   "source": [
    "print(survey_data.isnull().sum())\n",
    "\n",
    "postalcode_missing_values = survey_data.PostalCode.isnull().sum()\n",
    "total_values = survey_data.shape[0]\n",
    "part_postalcode_missing_values = (postalcode_missing_values / total_values) * 100\n",
    "print(part_postalcode_missing_values, '% de données manquantes')"
   ]
  },
  {
   "source": [
    "Comme spécifié plus haut, le nombre d'entrées dans la première base de données est de 8 627. Ici, PostalCode détient 1 390 entrées manquantes, ce qui représente un peu plus de 16 % des entrées totales. Cette donnée n'est pas la plus importante de la base et sa manipulation n'en sera que ponctuelle donc il n'est pas nécessaire de toucher à ces valeurs manquantes."
   ],
   "cell_type": "markdown",
   "metadata": {}
  },
  {
   "source": [
    "## Qu'en est-il de ces codes postaux manquants ?"
   ],
   "cell_type": "markdown",
   "metadata": {}
  },
  {
   "source": [
    "Il serait difficile d'uniformiser les codes postaux car il n'existe pas un code postal universel. De ce fait, pas besoin d'y toucher, surtout qu'elle n'est pas prépondérante dans l'étude de la base de données."
   ],
   "cell_type": "markdown",
   "metadata": {}
  },
  {
   "source": [
    "## 3. BDD1 : Le traitement des dates dans la base de données"
   ],
   "cell_type": "markdown",
   "metadata": {}
  },
  {
   "source": [
    "print(survey_data.dtypes)"
   ],
   "cell_type": "code",
   "metadata": {},
   "execution_count": 23,
   "outputs": [
    {
     "output_type": "stream",
     "name": "stdout",
     "text": [
      "SalaryUSD                               float64\nCountry                                  object\nPostalCode                               object\nEmploymentStatus                         object\nJobTitle                                 object\nYearsWithThisTypeOfJob                    int64\nHowManyCompanies                         object\nOtherPeopleOnYourTeam                    object\nPopulationOfLargestCityWithin20Miles     object\nCareerPlansThisYear                      object\nGender                                   object\ndtype: object\n"
     ]
    }
   ]
  },
  {
   "source": [
    "Aucune donnée de type \"date\" présente dans la base de données donc passons à la suite !"
   ],
   "cell_type": "markdown",
   "metadata": {}
  },
  {
   "source": [
    "## 4. BDD1 : Gérons les doublons !"
   ],
   "cell_type": "markdown",
   "metadata": {}
  },
  {
   "source": [
    "print(survey_data.duplicated().value_counts())\n",
    "print(survey_data[survey_data.duplicated(keep=False)])\n",
    "\n",
    "survey_data = survey_data.drop_duplicates(keep='first')\n",
    "print(survey_data.duplicated().value_counts())"
   ],
   "cell_type": "code",
   "metadata": {},
   "execution_count": 24,
   "outputs": [
    {
     "output_type": "stream",
     "name": "stdout",
     "text": [
      "False    8479\nTrue      148\ndtype: int64\n      SalaryUSD        Country PostalCode    EmploymentStatus  \\\n52     148000.0  United States      60642  Full time employee   \n53     148000.0  United States      60642  Full time employee   \n62     100000.0         Canada        NaN  Full time employee   \n64     100000.0         Canada        NaN  Full time employee   \n144     71500.0  United States      48192  Full time employee   \n...         ...            ...        ...                 ...   \n8523    95000.0  United States  Not Asked  Full time employee   \n8562   105000.0  United States  Not Asked  Full time employee   \n8595    52000.0  United States  Not Asked  Full time employee   \n8611    96000.0  United States  Not Asked  Full time employee   \n8612    85000.0  United States  Not Asked  Full time employee   \n\n              JobTitle  YearsWithThisTypeOfJob  \\\n52      Data Scientist                       7   \n53      Data Scientist                       7   \n62             Analyst                       7   \n64             Analyst                       7   \n144            Manager                       5   \n...                ...                     ...   \n8523               DBA                       4   \n8562               DBA                       6   \n8595  Developer: T-SQL                       2   \n8611               DBA                       5   \n8612               DBA                       2   \n\n                                       HowManyCompanies OtherPeopleOnYourTeam  \\\n52    2 (I worked at another similar position elsewh...                     1   \n53    2 (I worked at another similar position elsewh...                     1   \n62    2 (I worked at another similar position elsewh...                     1   \n64    2 (I worked at another similar position elsewh...                     1   \n144   2 (I worked at another similar position elsewh...                     1   \n...                                                 ...                   ...   \n8523                                          Not Asked                     2   \n8562                                          Not Asked                     1   \n8595                                          Not Asked                     2   \n8611                                          Not Asked                  None   \n8612                                          Not Asked                  None   \n\n     PopulationOfLargestCityWithin20Miles  \\\n52                       1M+ (metropolis)   \n53                       1M+ (metropolis)   \n62                       1M+ (metropolis)   \n64                       1M+ (metropolis)   \n144                  300K-1M (large city)   \n...                                   ...   \n8523                            Not Asked   \n8562                            Not Asked   \n8595                            Not Asked   \n8611                            Not Asked   \n8612                            Not Asked   \n\n                                 CareerPlansThisYear     Gender  \n52    Stay with the same employer,  but change roles     Female  \n53    Stay with the same employer,  but change roles     Female  \n62            Stay with the same employer, same role       Male  \n64            Stay with the same employer, same role       Male  \n144    Stay with the same role, but change employers       Male  \n...                                              ...        ...  \n8523                                       Not Asked  Not Asked  \n8562                                       Not Asked  Not Asked  \n8595                                       Not Asked  Not Asked  \n8611                                       Not Asked  Not Asked  \n8612                                       Not Asked  Not Asked  \n\n[276 rows x 11 columns]\nFalse    8479\ndtype: int64\n"
     ]
    }
   ]
  },
  {
   "source": [
    "La base de données est composée de plusieurs doublons, 148 précisément. En examinant la base de données, on remarque que seul le timestamp permet de différencier les doublons entre eux. On peut donc relever ceux-ci en supprimant la colonne Timestamp. L'enregistrement pour ces doublons est seulement différencié de quelques secondes. On peut donc les enlever et ne garder qu'un exemplaire de chaque."
   ],
   "cell_type": "markdown",
   "metadata": {}
  },
  {
   "source": [
    "## 5. BDD1 : Vérifions la consistence des données !"
   ],
   "cell_type": "markdown",
   "metadata": {}
  },
  {
   "source": [
    "Le but est de relever des inconsistances dans les noms des données. "
   ],
   "cell_type": "markdown",
   "metadata": {}
  },
  {
   "cell_type": "code",
   "execution_count": 25,
   "metadata": {},
   "outputs": [
    {
     "output_type": "stream",
     "name": "stdout",
     "text": [
      "['Albania', 'Anguilla', 'Argentina', 'Armenia', 'Australia', 'Austria', 'Bahrain', 'Belarus', 'Belgium', 'Bermuda', 'Bolivia', 'Brazil', 'Bulgaria', 'Canada', 'Cayman Islands', 'China', 'Colombia', 'Costa Rica', 'Croatia', 'Czech Republic', 'Denmark', 'Dominican Republic', 'Ecuador', 'El Salvador', 'Estonia', 'Finland', 'France', 'Georgia', 'Germany', 'Ghana', 'Greece', 'Guatemala', 'Guernsey', 'Hong Kong', 'Hungary', 'Iceland', 'India', 'Indonesia', 'Iran', 'Ireland', 'Israel', 'Italy', 'Jamaica', 'Jersey', 'Jordan', 'Kenya', 'Latvia', 'Lithuania', 'Luxembourg', 'Macedonia', 'Malaysia', 'Maldives', 'Malta', 'Mexico', 'Moldova', 'Nepal', 'Netherlands', 'New Zealand', 'Nicaragua', 'Norway', 'Pakistan', 'Paraguay', 'Peru', 'Philippines', 'Poland', 'Portugal', 'Puerto Rico', 'Qatar', 'Romania', 'Russia', 'Saudi Arabia', 'Serbia and Montenegro', 'Singapore', 'Slovakia', 'Slovenia', 'South Africa', 'Spain', 'Swaziland', 'Sweden', 'Switzerland', 'Syria', 'Taiwan', 'Thailand', 'Turkey', 'Uganda', 'Ukraine', 'United Arab Emirates', 'United Kingdom', 'United States', 'Uruguay', 'Vanuatu', 'Venezuela', 'Vietnam']\n----------------------------------\n      SalaryUSD        Country PostalCode  \\\n0      115000.0  United States         03   \n1      100000.0  United States        NaN   \n3       70000.0  United States      94133   \n4      110000.0  United States      95354   \n5       79500.0  United States      78727   \n...         ...            ...        ...   \n8605    78000.0  United States  Not Asked   \n8608   101750.0  United States  Not Asked   \n8609    66000.0  United States  Not Asked   \n8614   137500.0  United States  Not Asked   \n8626   200000.0  United States  Not Asked   \n\n                                       EmploymentStatus  \\\n0                                    Full time employee   \n1                                    Full time employee   \n3                                    Full time employee   \n4                                    Full time employee   \n5                                    Full time employee   \n...                                                 ...   \n8605                                 Full time employee   \n8608                                 Full time employee   \n8609                                 Full time employee   \n8614  Full time employee of a consulting/contracting...   \n8626                                 Full time employee   \n\n                                               JobTitle  \\\n0     DBA (Production Focus - build & troubleshoot s...   \n1                     Developer: App code (C#, JS, etc)   \n3                                               Analyst   \n4     DBA (General - splits time evenly between writ...   \n5                                               Analyst   \n...                                                 ...   \n8605                                                DBA   \n8608                                                DBA   \n8609                  Developer: App code (C#, JS, etc)   \n8614                                                DBA   \n8626                                                DBA   \n\n      YearsWithThisTypeOfJob  \\\n0                          5   \n1                          6   \n3                          3   \n4                         25   \n5                          2   \n...                      ...   \n8605                      10   \n8608                      13   \n8609                      10   \n8614                       6   \n8626                       5   \n\n                                       HowManyCompanies OtherPeopleOnYourTeam  \\\n0     1 (this is the only company where I've had thi...                     2   \n1     1 (this is the only company where I've had thi...           More than 5   \n3     1 (this is the only company where I've had thi...                     2   \n4                                                     3                  None   \n5     1 (this is the only company where I've had thi...                  None   \n...                                                 ...                   ...   \n8605                                          Not Asked                  None   \n8608                                          Not Asked                  None   \n8609                                          Not Asked                  None   \n8614                                          Not Asked                     4   \n8626                                          Not Asked                     2   \n\n     PopulationOfLargestCityWithin20Miles  \\\n0                    20K-99K (large town)   \n1                        1M+ (metropolis)   \n3                        1M+ (metropolis)   \n4                        100K-299K (city)   \n5                        1M+ (metropolis)   \n...                                   ...   \n8605                            Not Asked   \n8608                            Not Asked   \n8609                            Not Asked   \n8614                            Not Asked   \n8626                            Not Asked   \n\n                         CareerPlansThisYear     Gender  \n0     Stay with the same employer, same role       Male  \n1                          Prefer not to say       Male  \n3            Change both employers and roles       Male  \n4     Stay with the same employer, same role       Male  \n5     Stay with the same employer, same role       Male  \n...                                      ...        ...  \n8605                               Not Asked  Not Asked  \n8608                               Not Asked  Not Asked  \n8609                               Not Asked  Not Asked  \n8614                               Not Asked  Not Asked  \n8626                               Not Asked  Not Asked  \n\n[5542 rows x 11 columns]\n"
     ]
    }
   ],
   "source": [
    "print(sorted(survey_data.Country.unique()))\n",
    "print(\"----------------------------------\")\n",
    "survey_data = survey_data.loc[survey_data['Country'] == 'United States']\n",
    "print(survey_data)"
   ]
  },
  {
   "source": [
    "Dans le cadre du brief, les questions concernent exclusivement les Etats-Unis donc on peut enlever les lignes qui concernent les autres pays. Au lieu de 8 627 lignes, nous n'en avons plus que 5 542."
   ],
   "cell_type": "markdown",
   "metadata": {}
  },
  {
   "cell_type": "code",
   "execution_count": 26,
   "metadata": {},
   "outputs": [
    {
     "output_type": "stream",
     "name": "stdout",
     "text": [
      "['Full time employee', 'Full time employee of a consulting/contracting company', 'Independent consultant, contractor, freelancer,  or company owner', 'Independent or freelancer or company owner', 'Part time']\n----------------------------------\n['Analyst', 'Analytics consultant', 'Architect', 'Consultant', 'DBA', 'DBA (Development Focus - tunes queries, indexes, does deployments)', 'DBA (General - splits time evenly between writing & tuning queries AND building & troubleshooting servers)', 'DBA (Production Focus - build & troubleshoot servers, HA/DR)', 'Data Scientist', 'Database Specialist', 'DevOps, Sr Software Engineer DBA', 'Developer: App code (C#, JS, etc)', 'Developer: Business Intelligence (SSRS, PowerBI, etc)', 'Developer: T-SQL', 'Engineer', 'Manager', 'Other', 'Principal database engineer', 'Sr Consultant ', 'Systems Administrator', 'Technician ']\n------------------------------------\nDBA (General - splits time evenly between writing & tuning queries AND building & troubleshooting servers)    1007\nDBA                                                                                                            882\nDBA (Production Focus - build & troubleshoot servers, HA/DR)                                                   579\nDeveloper: T-SQL                                                                                               529\nArchitect                                                                                                      460\nManager                                                                                                        378\nDeveloper: Business Intelligence (SSRS, PowerBI, etc)                                                          359\nDeveloper: App code (C#, JS, etc)                                                                              350\nAnalyst                                                                                                        347\nEngineer                                                                                                       271\nDBA (Development Focus - tunes queries, indexes, does deployments)                                             246\nOther                                                                                                           89\nData Scientist                                                                                                  36\nSystems Administrator                                                                                            2\nConsultant                                                                                                       1\nTechnician                                                                                                       1\nPrincipal database engineer                                                                                      1\nDatabase Specialist                                                                                              1\nAnalytics consultant                                                                                             1\nDevOps, Sr Software Engineer DBA                                                                                 1\nSr Consultant                                                                                                    1\nName: JobTitle, dtype: int64\n----------------------------------\n['100K-299K (city)', '1M+ (metropolis)', '20K-99K (large town)', '300K-1M (large city)', '<= 20,000 (town)', 'Not Asked']\n----------------------------------\n['Alien', 'Any human one', 'Attack Helicopter', 'Attack Helicopter. (serious dude, gender questions?)', 'Attack helicopter', 'Cyborg', 'Dragon', 'Female', 'I am Batman', 'Male', 'Meat Popsicle ', 'Non-binary/third gender', 'Not Asked', 'Prefer not to say', 'This question is inappropriate. ', 'Vulcan', 'confused', 'human  This is also my race.', 'mosquito ', 'toad frog']\n"
     ]
    }
   ],
   "source": [
    "print(sorted(survey_data.EmploymentStatus.unique()))\n",
    "print(\"----------------------------------\")\n",
    "print(sorted(survey_data.JobTitle.unique()))\n",
    "print(\"------------------------------------\")\n",
    "print(survey_data.JobTitle.value_counts())\n",
    "print(\"----------------------------------\")\n",
    "print(sorted(survey_data.PopulationOfLargestCityWithin20Miles.unique()))\n",
    "print(\"----------------------------------\")\n",
    "print(sorted(survey_data.Gender.unique()))\n"
   ]
  },
  {
   "source": [
    "En voyant les valeurs uniques de différentes colonnes, on remarque que les données semblent consistantes sauf du côté de nos métiers. En effet, plusieurs métiers ont pour titre DBA avec de nombreuses précisions derrière. De plus, certains métiers sont sous-représentés en nombre. On va donc faire deux choses : regrouper les métiers sous-représentés en une catégorie \"Other\" et regrouper aussi entre eux les métiers qui commencent par DBA."
   ],
   "cell_type": "markdown",
   "metadata": {}
  },
  {
   "cell_type": "code",
   "execution_count": 27,
   "metadata": {
    "tags": []
   },
   "outputs": [
    {
     "output_type": "stream",
     "name": "stdout",
     "text": [
      "DBA (General - splits time evenly between writing & tuning queries AND building & troubleshooting servers)    1007\nDBA                                                                                                            882\nDBA (Production Focus - build & troubleshoot servers, HA/DR)                                                   579\nDeveloper: T-SQL                                                                                               529\nArchitect                                                                                                      460\nManager                                                                                                        378\nDeveloper: Business Intelligence (SSRS, PowerBI, etc)                                                          359\nDeveloper: App code (C#, JS, etc)                                                                              350\nAnalyst                                                                                                        347\nEngineer                                                                                                       271\nDBA (Development Focus - tunes queries, indexes, does deployments)                                             246\nOther                                                                                                           98\nData Scientist                                                                                                  36\nName: JobTitle, dtype: int64\n-------------------------------------\n      SalaryUSD        Country PostalCode  \\\n0      115000.0  United States         03   \n1      100000.0  United States        NaN   \n3       70000.0  United States      94133   \n4      110000.0  United States      95354   \n5       79500.0  United States      78727   \n...         ...            ...        ...   \n8605    78000.0  United States  Not Asked   \n8608   101750.0  United States  Not Asked   \n8609    66000.0  United States  Not Asked   \n8614   137500.0  United States  Not Asked   \n8626   200000.0  United States  Not Asked   \n\n                                       EmploymentStatus  \\\n0                                    Full time employee   \n1                                    Full time employee   \n3                                    Full time employee   \n4                                    Full time employee   \n5                                    Full time employee   \n...                                                 ...   \n8605                                 Full time employee   \n8608                                 Full time employee   \n8609                                 Full time employee   \n8614  Full time employee of a consulting/contracting...   \n8626                                 Full time employee   \n\n                               JobTitle  YearsWithThisTypeOfJob  \\\n0                                   DBA                       5   \n1     Developer: App code (C#, JS, etc)                       6   \n3                               Analyst                       3   \n4                                   DBA                      25   \n5                               Analyst                       2   \n...                                 ...                     ...   \n8605                                DBA                      10   \n8608                                DBA                      13   \n8609  Developer: App code (C#, JS, etc)                      10   \n8614                                DBA                       6   \n8626                                DBA                       5   \n\n                                       HowManyCompanies OtherPeopleOnYourTeam  \\\n0     1 (this is the only company where I've had thi...                     2   \n1     1 (this is the only company where I've had thi...           More than 5   \n3     1 (this is the only company where I've had thi...                     2   \n4                                                     3                  None   \n5     1 (this is the only company where I've had thi...                  None   \n...                                                 ...                   ...   \n8605                                          Not Asked                  None   \n8608                                          Not Asked                  None   \n8609                                          Not Asked                  None   \n8614                                          Not Asked                     4   \n8626                                          Not Asked                     2   \n\n     PopulationOfLargestCityWithin20Miles  \\\n0                    20K-99K (large town)   \n1                        1M+ (metropolis)   \n3                        1M+ (metropolis)   \n4                        100K-299K (city)   \n5                        1M+ (metropolis)   \n...                                   ...   \n8605                            Not Asked   \n8608                            Not Asked   \n8609                            Not Asked   \n8614                            Not Asked   \n8626                            Not Asked   \n\n                         CareerPlansThisYear     Gender  \n0     Stay with the same employer, same role       Male  \n1                          Prefer not to say       Male  \n3            Change both employers and roles       Male  \n4     Stay with the same employer, same role       Male  \n5     Stay with the same employer, same role       Male  \n...                                      ...        ...  \n8605                               Not Asked  Not Asked  \n8608                               Not Asked  Not Asked  \n8609                               Not Asked  Not Asked  \n8614                               Not Asked  Not Asked  \n8626                               Not Asked  Not Asked  \n\n[5542 rows x 11 columns]\n"
     ]
    }
   ],
   "source": [
    "x = survey_data.JobTitle.value_counts()\n",
    "survey_data.loc[survey_data.JobTitle.isin(x[x <= 5].index), \"JobTitle\"] = \"Other\"\n",
    "print(survey_data.JobTitle.value_counts())\n",
    "print(\"-------------------------------------\")\n",
    "survey_data.JobTitle = survey_data.JobTitle.apply(lambda x: 'DBA' if 'DBA' in x else x)\n",
    "print(survey_data)"
   ]
  },
  {
   "source": [
    "## 6. BDD1 : Des données aberrantes ?"
   ],
   "cell_type": "markdown",
   "metadata": {}
  },
  {
   "source": [
    "La première colonne à observer est celle des salaires. En effet, certains salaires sont très bas mais nous n'avons pas beaucoup plus d'informations. De ce fait, j'ai choisi d'enlever tous les salaires inférieurs à 10 000 dollars. En faisant les moyennes de toutes les valeurs avant retrait, on tombe sur une moyenne de 108 767 dollars. Après retrait, la moyenne est de 108 905 dollars donc ces valeurs n'ont pas trop de conséquence sur cette statistique."
   ],
   "cell_type": "markdown",
   "metadata": {}
  },
  {
   "source": [
    "print(sorted(survey_data.SalaryUSD.unique()))\n",
    "print(\"------------------------------------\")\n",
    "print(survey_data.SalaryUSD.mean())\n",
    "print(\"------------------------------------\")\n",
    "selected_salaries = survey_data[survey_data['SalaryUSD'] > 10000]\n",
    "print(selected_salaries)\n",
    "print(\"------------------------------------\")\n",
    "print(selected_salaries.SalaryUSD.mean())"
   ],
   "cell_type": "code",
   "metadata": {},
   "execution_count": 28,
   "outputs": [
    {
     "output_type": "stream",
     "name": "stdout",
     "text": [
      "[0.0, 92.27, 125.0, 130.0, 135.0, 144.0, 150.0, 11100.0, 11500.0, 11800.0, 12300.0, 24000.0, 25000.0, 30000.0, 31200.0, 32000.0, 35000.0, 35800.0, 36000.0, 37400.0, 37500.0, 38000.0, 38500.0, 39000.0, 40000.0, 42000.0, 42500.0, 43000.0, 44000.0, 45000.0, 45760.0, 46000.0, 46350.0, 46820.0, 47000.0, 47240.0, 47500.0, 47840.0, 48000.0, 48500.0, 49000.0, 49260.0, 49500.0, 49900.0, 50000.0, 50085.0, 50750.0, 51000.0, 51700.0, 51800.0, 52000.0, 52500.0, 53000.0, 53040.0, 53500.0, 54000.0, 55000.0, 55500.0, 55600.0, 56000.0, 56500.0, 56600.0, 56700.0, 56800.0, 57000.0, 57200.0, 57300.0, 57400.0, 57500.0, 58000.0, 58500.0, 58775.0, 59000.0, 59009.0, 59100.0, 59700.0, 60000.0, 60090.0, 60166.0, 60500.0, 60600.0, 60900.0, 61000.0, 61200.0, 61500.0, 61773.0, 61800.0, 61900.0, 62000.0, 62400.0, 62500.0, 62661.0, 62700.0, 63000.0, 63300.0, 63330.0, 63344.0, 63400.0, 63500.0, 63600.0, 64000.0, 64477.0, 64480.0, 64750.0, 64775.0, 65000.0, 65240.0, 65500.0, 65543.0, 66000.0, 66050.0, 66500.0, 66625.0, 67000.0, 67017.0, 67080.0, 67275.0, 67418.0, 67500.0, 68000.0, 68081.0, 68800.0, 68950.0, 69000.0, 69500.0, 69725.0, 69875.0, 69990.0, 70000.0, 70180.0, 70400.0, 70760.0, 70788.0, 70863.0, 71000.0, 71400.0, 71500.0, 71594.0, 72000.0, 72135.0, 72176.0, 72450.0, 72500.0, 73000.0, 73500.0, 73745.0, 73757.0, 73840.0, 73855.0, 74000.0, 74351.0, 74400.0, 74813.0, 74880.0, 75000.0, 75100.0, 75110.0, 75200.0, 75500.0, 75524.0, 75600.0, 75700.0, 75720.0, 75736.0, 76000.0, 76125.0, 76200.0, 76500.0, 76780.0, 76800.0, 77000.0, 77040.0, 77140.0, 77250.0, 77500.0, 77575.0, 77600.0, 77624.0, 77650.0, 77700.0, 77800.0, 77850.0, 77855.0, 78000.0, 78052.0, 78250.0, 78500.0, 78600.0, 78750.0, 78852.0, 79000.0, 79063.0, 79280.0, 79500.0, 79750.0, 79800.0, 80000.0, 80100.0, 80104.0, 80751.0, 80753.0, 80939.0, 81000.0, 81100.0, 81471.0, 81500.0, 81600.0, 81645.0, 81723.0, 82000.0, 82400.0, 82500.0, 82804.0, 83000.0, 83018.0, 83200.0, 83232.0, 83500.0, 83599.0, 84000.0, 84048.0, 84460.0, 84500.0, 85000.0, 85155.0, 85200.0, 85488.0, 85500.0, 85540.0, 85544.0, 85571.0, 85654.0, 85850.0, 85900.0, 86000.0, 86006.0, 86065.0, 86150.0, 86174.0, 86200.0, 86500.0, 86600.0, 86650.0, 86700.0, 86735.0, 87000.0, 87100.0, 87360.0, 87400.0, 87428.0, 87491.0, 87500.0, 87600.0, 87700.0, 87890.0, 87992.0, 87996.0, 88000.0, 88002.0, 88050.0, 88130.0, 88500.0, 88580.0, 89000.0, 89035.0, 89139.0, 89500.0, 89600.0, 89750.0, 89814.0, 90000.0, 90200.0, 90250.0, 90500.0, 90875.0, 90900.0, 91000.0, 91214.0, 91350.0, 91371.0, 91400.0, 91484.0, 91500.0, 91520.0, 91660.0, 91800.0, 91865.0, 92000.0, 92100.0, 92103.0, 92220.0, 92425.0, 92500.0, 92600.0, 92700.0, 92750.0, 92822.0, 92880.0, 92950.0, 93000.0, 93156.0, 93500.0, 93567.0, 93800.0, 94000.0, 94188.0, 94200.0, 94245.0, 94500.0, 94994.0, 95000.0, 95138.0, 95185.0, 95200.0, 95207.0, 95378.0, 95500.0, 95532.0, 95600.0, 95612.0, 95800.0, 96000.0, 96108.0, 96500.0, 96600.0, 97000.0, 97088.0, 97232.0, 97263.0, 97325.0, 97335.0, 97500.0, 97700.0, 98000.0, 98259.0, 98500.0, 98600.0, 98670.0, 98750.0, 98760.0, 98800.0, 98966.0, 99000.0, 99100.0, 99220.0, 99257.0, 99350.0, 99500.0, 99600.0, 99800.0, 100000.0, 100001.0, 100093.0, 100200.0, 100280.0, 100282.0, 100318.0, 100400.0, 100420.0, 100500.0, 100646.0, 100800.0, 101000.0, 101230.0, 101250.0, 101400.0, 101500.0, 101725.0, 101750.0, 101900.0, 102000.0, 102104.0, 102200.0, 102232.0, 102456.0, 102494.0, 102500.0, 102800.0, 102900.0, 102960.0, 102990.0, 103000.0, 103107.0, 103110.0, 103250.0, 103500.0, 103520.0, 103900.0, 104000.0, 104104.0, 104300.0, 104310.0, 104495.0, 104500.0, 105000.0, 105560.0, 105607.0, 105721.0, 105750.0, 105800.0, 106000.0, 106300.0, 106400.0, 106500.0, 106575.0, 106700.0, 106956.0, 107000.0, 107500.0, 107540.0, 107690.0, 107800.0, 107814.0, 107900.0, 108000.0, 108250.0, 108500.0, 108564.0, 108707.0, 108819.0, 109000.0, 109200.0, 109300.0, 109500.0, 110000.0, 110040.0, 110154.0, 110240.0, 110400.0, 110700.0, 110724.0, 111000.0, 111250.0, 111300.0, 111500.0, 112000.0, 112350.0, 112500.0, 112700.0, 112840.0, 112874.0, 113000.0, 113097.0, 113100.0, 113300.0, 113400.0, 113500.0, 113650.0, 113842.0, 113900.0, 114000.0, 114300.0, 114500.0, 114700.0, 114830.0, 115000.0, 115200.0, 115500.0, 115544.0, 115600.0, 115700.0, 116000.0, 116300.0, 116340.0, 116400.0, 116500.0, 116965.0, 117000.0, 117031.0, 117500.0, 117600.0, 117770.0, 117832.0, 118000.0, 118111.0, 118400.0, 118450.0, 118500.0, 118556.0, 118560.0, 119000.0, 119071.0, 119500.0, 119831.0, 120000.0, 120240.0, 120250.0, 120500.0, 120792.0, 121000.0, 121200.0, 121368.0, 121500.0, 121807.0, 121950.0, 122000.0, 122400.0, 122500.0, 122645.0, 123000.0, 123200.0, 123217.0, 123300.0, 123500.0, 123585.0, 123600.0, 123634.0, 123847.0, 124000.0, 124500.0, 124600.0, 124800.0, 125000.0, 125250.0, 125400.0, 125800.0, 125900.0, 126000.0, 126500.0, 126800.0, 127000.0, 127500.0, 127750.0, 128000.0, 128500.0, 128593.0, 128800.0, 128825.0, 129000.0, 129780.0, 129800.0, 130000.0, 130271.0, 130500.0, 130750.0, 131000.0, 131500.0, 131700.0, 131720.0, 132000.0, 132131.0, 132387.0, 132500.0, 132725.0, 133000.0, 133010.0, 133500.0, 133700.0, 133800.0, 133900.0, 134000.0, 134391.0, 134400.0, 135000.0, 135300.0, 135500.0, 135600.0, 136000.0, 136500.0, 137000.0, 137443.0, 137500.0, 137900.0, 138000.0, 138500.0, 139000.0, 140000.0, 140321.0, 140394.0, 141000.0, 141750.0, 142000.0, 142500.0, 142600.0, 143000.0, 143200.0, 143547.0, 143800.0, 144000.0, 144700.0, 144760.0, 145000.0, 145493.0, 145500.0, 145600.0, 146000.0, 147000.0, 147200.0, 147500.0, 148000.0, 148500.0, 148986.0, 149000.0, 150000.0, 151000.0, 151400.0, 151500.0, 152000.0, 153000.0, 153027.0, 153300.0, 153400.0, 153500.0, 154000.0, 155000.0, 155500.0, 156000.0, 157000.0, 158000.0, 158200.0, 158500.0, 158566.0, 158995.0, 159000.0, 159056.0, 160000.0, 160750.0, 161449.0, 162000.0, 162788.0, 163000.0, 164000.0, 165000.0, 166000.0, 166400.0, 167000.0, 167250.0, 168000.0, 169000.0, 170000.0, 171000.0, 172000.0, 174000.0, 175000.0, 176000.0, 177000.0, 177400.0, 178000.0, 179000.0, 179800.0, 180000.0, 180600.0, 182000.0, 184000.0, 185000.0, 186000.0, 187000.0, 187500.0, 188000.0, 189000.0, 190000.0, 192000.0, 193000.0, 194000.0, 195000.0, 196000.0, 198000.0, 199000.0, 200000.0, 201000.0, 205000.0, 207000.0, 208000.0, 209000.0, 210000.0, 211000.0, 215000.0, 215250.0, 217000.0, 220000.0, 225000.0, 230000.0, 235000.0, 240000.0, 245000.0, 250000.0, 260000.0, 264000.0, 265000.0, 270000.0, 272000.0, 275000.0, 280000.0, 290000.0, 300000.0, 320000.0, 325000.0, 333000.0, 345000.0, 350000.0, 400000.0, 425000.0, 500000.0, 545000.0, 575000.0, 650000.0, 705000.0, 750000.0, 785000.0, 960000.0, 1000000.0, 1375000.0, 1450000.0, 1850000.0]\n",
      "------------------------------------\n",
      "108767.75681522915\n",
      "------------------------------------\n",
      "      SalaryUSD        Country PostalCode  \\\n",
      "0      115000.0  United States         03   \n",
      "1      100000.0  United States        NaN   \n",
      "3       70000.0  United States      94133   \n",
      "4      110000.0  United States      95354   \n",
      "5       79500.0  United States      78727   \n",
      "...         ...            ...        ...   \n",
      "8605    78000.0  United States  Not Asked   \n",
      "8608   101750.0  United States  Not Asked   \n",
      "8609    66000.0  United States  Not Asked   \n",
      "8614   137500.0  United States  Not Asked   \n",
      "8626   200000.0  United States  Not Asked   \n",
      "\n",
      "                                       EmploymentStatus  \\\n",
      "0                                    Full time employee   \n",
      "1                                    Full time employee   \n",
      "3                                    Full time employee   \n",
      "4                                    Full time employee   \n",
      "5                                    Full time employee   \n",
      "...                                                 ...   \n",
      "8605                                 Full time employee   \n",
      "8608                                 Full time employee   \n",
      "8609                                 Full time employee   \n",
      "8614  Full time employee of a consulting/contracting...   \n",
      "8626                                 Full time employee   \n",
      "\n",
      "                               JobTitle  YearsWithThisTypeOfJob  \\\n",
      "0                                   DBA                       5   \n",
      "1     Developer: App code (C#, JS, etc)                       6   \n",
      "3                               Analyst                       3   \n",
      "4                                   DBA                      25   \n",
      "5                               Analyst                       2   \n",
      "...                                 ...                     ...   \n",
      "8605                                DBA                      10   \n",
      "8608                                DBA                      13   \n",
      "8609  Developer: App code (C#, JS, etc)                      10   \n",
      "8614                                DBA                       6   \n",
      "8626                                DBA                       5   \n",
      "\n",
      "                                       HowManyCompanies OtherPeopleOnYourTeam  \\\n",
      "0     1 (this is the only company where I've had thi...                     2   \n",
      "1     1 (this is the only company where I've had thi...           More than 5   \n",
      "3     1 (this is the only company where I've had thi...                     2   \n",
      "4                                                     3                  None   \n",
      "5     1 (this is the only company where I've had thi...                  None   \n",
      "...                                                 ...                   ...   \n",
      "8605                                          Not Asked                  None   \n",
      "8608                                          Not Asked                  None   \n",
      "8609                                          Not Asked                  None   \n",
      "8614                                          Not Asked                     4   \n",
      "8626                                          Not Asked                     2   \n",
      "\n",
      "     PopulationOfLargestCityWithin20Miles  \\\n",
      "0                    20K-99K (large town)   \n",
      "1                        1M+ (metropolis)   \n",
      "3                        1M+ (metropolis)   \n",
      "4                        100K-299K (city)   \n",
      "5                        1M+ (metropolis)   \n",
      "...                                   ...   \n",
      "8605                            Not Asked   \n",
      "8608                            Not Asked   \n",
      "8609                            Not Asked   \n",
      "8614                            Not Asked   \n",
      "8626                            Not Asked   \n",
      "\n",
      "                         CareerPlansThisYear     Gender  \n",
      "0     Stay with the same employer, same role       Male  \n",
      "1                          Prefer not to say       Male  \n",
      "3            Change both employers and roles       Male  \n",
      "4     Stay with the same employer, same role       Male  \n",
      "5     Stay with the same employer, same role       Male  \n",
      "...                                      ...        ...  \n",
      "8605                               Not Asked  Not Asked  \n",
      "8608                               Not Asked  Not Asked  \n",
      "8609                               Not Asked  Not Asked  \n",
      "8614                               Not Asked  Not Asked  \n",
      "8626                               Not Asked  Not Asked  \n",
      "\n",
      "[5535 rows x 11 columns]\n",
      "------------------------------------\n",
      "108905.17289972899\n"
     ]
    }
   ]
  },
  {
   "source": [
    "## Intégration des données dans les tables de la base de données"
   ],
   "cell_type": "markdown",
   "metadata": {}
  },
  {
   "source": [
    "save_to_sql(survey_data, \"Responses\", conn)"
   ],
   "cell_type": "code",
   "metadata": {},
   "execution_count": 29,
   "outputs": []
  },
  {
   "source": [
    "## 1. BDD 2 : Examen de la base de données et suppression des colonnes inutiles pour le brief"
   ],
   "cell_type": "markdown",
   "metadata": {}
  },
  {
   "source": [
    "Pour cette première phase, analysons la structure de notre base de données"
   ],
   "cell_type": "markdown",
   "metadata": {}
  },
  {
   "cell_type": "code",
   "execution_count": 30,
   "metadata": {},
   "outputs": [
    {
     "output_type": "stream",
     "name": "stdout",
     "text": [
      "   Unnamed: 0                                          Job Title  \\\n0           0  Data Analyst, Center on Immigration and Justic...   \n1           1                               Quality Data Analyst   \n2           2  Senior Data Analyst, Insights & Analytics Team...   \n3           3                                       Data Analyst   \n4           4                             Reporting Data Analyst   \n\n              Salary Estimate  \\\n0  $37K-$66K (Glassdoor est.)   \n1  $37K-$66K (Glassdoor est.)   \n2  $37K-$66K (Glassdoor est.)   \n3  $37K-$66K (Glassdoor est.)   \n4  $37K-$66K (Glassdoor est.)   \n\n                                     Job Description  Rating  \\\n0  Are you eager to roll up your sleeves and harn...     3.2   \n1  Overview\\n\\nProvides analytical and technical ...     3.8   \n2  We’re looking for a Senior Data Analyst who ha...     3.4   \n3  Requisition NumberRR-0001939\\nRemote:Yes\\nWe c...     4.1   \n4  ABOUT FANDUEL GROUP\\n\\nFanDuel Group is a worl...     3.9   \n\n                              Company Name      Location  Headquarters  \\\n0           Vera Institute of Justice\\n3.2  New York, NY  New York, NY   \n1  Visiting Nurse Service of New York\\n3.8  New York, NY  New York, NY   \n2                         Squarespace\\n3.4  New York, NY  New York, NY   \n3                            Celerity\\n4.1  New York, NY    McLean, VA   \n4                             FanDuel\\n3.9  New York, NY  New York, NY   \n\n                     Size  Founded               Type of ownership  \\\n0    201 to 500 employees     1961          Nonprofit Organization   \n1        10000+ employees     1893          Nonprofit Organization   \n2  1001 to 5000 employees     2003               Company - Private   \n3    201 to 500 employees     2002  Subsidiary or Business Segment   \n4   501 to 1000 employees     2009               Company - Private   \n\n                           Industry                            Sector  \\\n0                 Social Assistance                        Non-Profit   \n1  Health Care Services & Hospitals                       Health Care   \n2                          Internet            Information Technology   \n3                       IT Services            Information Technology   \n4               Sports & Recreation  Arts, Entertainment & Recreation   \n\n                      Revenue Competitors Easy Apply  \n0  $100 to $500 million (USD)          -1       True  \n1      $2 to $5 billion (USD)          -1         -1  \n2    Unknown / Non-Applicable     GoDaddy         -1  \n3   $50 to $100 million (USD)          -1         -1  \n4  $100 to $500 million (USD)  DraftKings       True  \nIndex(['Unnamed: 0', 'Job Title', 'Salary Estimate', 'Job Description',\n       'Rating', 'Company Name', 'Location', 'Headquarters', 'Size', 'Founded',\n       'Type of ownership', 'Industry', 'Sector', 'Revenue', 'Competitors',\n       'Easy Apply'],\n      dtype='object')\n(2253, 16)\n"
     ]
    }
   ],
   "source": [
    "print(job_applying_data.head())\n",
    "print(job_applying_data.columns)\n",
    "print(job_applying_data.shape)"
   ]
  },
  {
   "source": [
    "La base de données est composée de 2 253 entrées pour 16 colonnes. Parmi elles, certaines ne seront pas utiles dans l'étude de la base de données."
   ],
   "cell_type": "markdown",
   "metadata": {}
  },
  {
   "cell_type": "code",
   "execution_count": 31,
   "metadata": {},
   "outputs": [
    {
     "output_type": "stream",
     "name": "stdout",
     "text": [
      "                                           Job Title  \\\n0  Data Analyst, Center on Immigration and Justic...   \n1                               Quality Data Analyst   \n2  Senior Data Analyst, Insights & Analytics Team...   \n3                                       Data Analyst   \n4                             Reporting Data Analyst   \n\n              Salary Estimate      Location  \n0  $37K-$66K (Glassdoor est.)  New York, NY  \n1  $37K-$66K (Glassdoor est.)  New York, NY  \n2  $37K-$66K (Glassdoor est.)  New York, NY  \n3  $37K-$66K (Glassdoor est.)  New York, NY  \n4  $37K-$66K (Glassdoor est.)  New York, NY  \n"
     ]
    }
   ],
   "source": [
    "job_applying_data = job_applying_data[['Job Title', 'Salary Estimate', 'Location']]\n",
    "print(job_applying_data.head())"
   ]
  },
  {
   "source": [
    "Dans le cadre de mon travail, j'ai choisi de conserver seulement trois colonnes. En effet, pour répondre aux questions, ces colonnes choisies seront utiles. POur la colonne Location, elle pourrait être intéressante pour la question du plan de carrière."
   ],
   "cell_type": "markdown",
   "metadata": {}
  },
  {
   "source": [
    "## 2. BDD2 : vérification des données manquantes dans la base de données"
   ],
   "cell_type": "markdown",
   "metadata": {}
  },
  {
   "cell_type": "code",
   "execution_count": 32,
   "metadata": {},
   "outputs": [
    {
     "output_type": "stream",
     "name": "stdout",
     "text": [
      "Job Title          0\nSalary Estimate    0\nLocation           0\ndtype: int64\n"
     ]
    }
   ],
   "source": [
    "print(job_applying_data.isnull().sum())"
   ]
  },
  {
   "source": [
    "On constate ici qu'il n'y a pas de données manquantes dans la base de données."
   ],
   "cell_type": "markdown",
   "metadata": {}
  },
  {
   "source": [
    "## 3. BDD2 : Le traitement des dates dans la base de données"
   ],
   "cell_type": "markdown",
   "metadata": {}
  },
  {
   "cell_type": "code",
   "execution_count": 33,
   "metadata": {},
   "outputs": [
    {
     "output_type": "stream",
     "name": "stdout",
     "text": [
      "Job Title          object\nSalary Estimate    object\nLocation           object\ndtype: object\n"
     ]
    }
   ],
   "source": [
    "print(job_applying_data.dtypes)"
   ]
  },
  {
   "source": [
    "Aucune date à l'horizon donc on peut poursuivre notre data cleaning"
   ],
   "cell_type": "markdown",
   "metadata": {}
  },
  {
   "source": [
    "## 4. BDD2 : Gérons les doublons !"
   ],
   "cell_type": "markdown",
   "metadata": {}
  },
  {
   "cell_type": "code",
   "execution_count": 34,
   "metadata": {},
   "outputs": [
    {
     "output_type": "stream",
     "name": "stdout",
     "text": [
      "False    1895\n",
      "True      358\n",
      "dtype: int64\n",
      "                         Job Title              Salary Estimate  \\\n",
      "3                     Data Analyst   $37K-$66K (Glassdoor est.)   \n",
      "5                     Data Analyst   $37K-$66K (Glassdoor est.)   \n",
      "7             Data Science Analyst   $37K-$66K (Glassdoor est.)   \n",
      "8                     Data Analyst   $37K-$66K (Glassdoor est.)   \n",
      "10                    Data Analyst   $37K-$66K (Glassdoor est.)   \n",
      "...                            ...                          ...   \n",
      "2227  Data Base Programmer/Analyst  $57K-$100K (Glassdoor est.)   \n",
      "2231               Sr Data Analyst  $57K-$100K (Glassdoor est.)   \n",
      "2235  Data Base Programmer/Analyst  $57K-$100K (Glassdoor est.)   \n",
      "2238  Senior Contract Data Analyst  $78K-$104K (Glassdoor est.)   \n",
      "2239  Senior Contract Data Analyst  $78K-$104K (Glassdoor est.)   \n",
      "\n",
      "            Location  \n",
      "3       New York, NY  \n",
      "5       New York, NY  \n",
      "7       New York, NY  \n",
      "8       New York, NY  \n",
      "10      New York, NY  \n",
      "...              ...  \n",
      "2227      Denver, CO  \n",
      "2231  Louisville, CO  \n",
      "2235      Denver, CO  \n",
      "2238      Aurora, CO  \n",
      "2239      Aurora, CO  \n",
      "\n",
      "[523 rows x 3 columns]\n",
      "False    1895\n",
      "dtype: int64\n"
     ]
    }
   ],
   "source": [
    "print(job_applying_data.duplicated().value_counts())\n",
    "print(job_applying_data[job_applying_data.duplicated(keep=False)])\n",
    "\n",
    "job_applying_data = job_applying_data.drop_duplicates(keep='first')\n",
    "print(job_applying_data.duplicated().value_counts())"
   ]
  },
  {
   "source": [
    "Cas particulier ici : nous avons 3 colonnes sur lesquels travailler. Or, nous repérons des doublons sur ces seules trois colonnes, ce qui est plutôt normal. En vérifiant en amont sur la base de données brutes, il n'y a en réalité aucun doublon. Dans ce cas-là, on peut bien sûr se permettre de supprimer les doublons car nous n'avons pas beaucoup de colonnes. Cela allège notre base au moins et au final, cela n'aurait rien changé, suppression ou pas."
   ],
   "cell_type": "markdown",
   "metadata": {}
  },
  {
   "source": [
    "## 5. BDD2 : Vérifions la consistence des données !"
   ],
   "cell_type": "markdown",
   "metadata": {}
  },
  {
   "cell_type": "code",
   "execution_count": 35,
   "metadata": {},
   "outputs": [
    {
     "output_type": "stream",
     "name": "stdout",
     "text": [
      "['Addison, TX', 'Alachua, FL', 'Alameda, CA', 'Alhambra, CA', 'Allegheny West, PA', 'Allen, TX', 'American Fork, UT', 'Anaheim, CA', 'Arcadia, CA', 'Arlington Heights, IL', 'Arlington, TX', 'Athens, GA', 'Aurora, CO', 'Austin, TX', 'Azusa, CA', 'Beech Grove, IN', 'Bellevue, WA', 'Bensalem, PA', 'Berkeley Heights, NJ', 'Berkeley, CA', 'Berwyn, PA', 'Beverly Hills, CA', 'Blue Bell, PA', 'Boothwyn, PA', 'Boulder, CO', 'Brea, CA', 'Bridgeview, IL', 'Broadview, IL', 'Bronx, NY', 'Brooklyn, NY', 'Broomfield, CO', 'Burbank, CA', 'Burlingame, CA', 'Burlingame, KS', 'Burr Ridge, IL', 'Camden, NJ', 'Campbell, CA', 'Carmel, IN', 'Carrollton, TX', 'Carson, CA', 'Cedar Park, TX', 'Centennial, CO', 'Cerritos, CA', 'Chandler, AZ', 'Charlotte, NC', 'Chesapeake, VA', 'Chester Township, PA', 'Chicago, IL', 'City of Industry, CA', 'Columbus, OH', 'Conshohocken, PA', 'Coppell, TX', 'Culver City, CA', 'Cupertino, CA', 'DC Ranch, AZ', 'Dallas, TX', 'Daly City, CA', 'Deerfield, IL', 'Denver, CO', 'Des Plaines, IL', 'Downers Grove, IL', 'Doylestown, PA', 'Draper, UT', 'Duarte, CA', 'Dublin, OH', 'East Palo Alto, CA', 'El Cajon, CA', 'El Segundo, CA', 'Elk Grove Village, IL', 'Emeryville, CA', 'Englewood, CO', 'Essex Fells, NJ', 'Evanston, IL', 'Exton, PA', 'Fairfield, NJ', 'Far Rockaway, NY', 'Farmers Branch, TX', 'Feasterville Trevose, PA', 'Florham Park, NJ', 'Fort Eustis, VA', 'Fort Lee, NJ', 'Fort Mill, SC', 'Fort Sam Houston, TX', 'Fort Washington, PA', 'Fort Worth, TX', 'Foster City, CA', 'Franklin Lakes, NJ', 'Fremont, CA', 'Gainesville, FL', 'Gardena, CA', 'Glendale, AZ', 'Glendale, CA', 'Glenview, IL', 'Grapevine, TX', 'Great Neck, NY', 'Greenwood Village, Arapahoe, CO', 'Hampton, VA', 'Hanford, CA', 'Harrison, NY', 'Haworth, NJ', 'Henderson, CO', 'Hercules, CA', 'Hermosa Beach, CA', 'Hilliard, OH', 'Hoboken, NJ', 'Horsham, PA', 'Houston, TX', 'Huntersville, NC', 'Indian Trail, NC', 'Indianapolis, IN', 'Inglewood, CA', 'Irving, TX', 'Irwindale, CA', 'Iselin, NJ', 'Issaquah, WA', 'Itasca, IL', 'Jacksonville, FL', 'Jeffersonville, IN', 'Jersey City, NJ', 'Kent, WA', 'King of Prussia, PA', 'Kirkland, WA', 'Lackland AFB, TX', 'Lake Success, NY', 'Lakewood, CO', 'Lawrence, IN', 'Lehi, UT', 'Lewisville, TX', 'Little Ferry, NJ', 'Littleton, CO', 'Lone Tree, CO', 'Long Beach, CA', 'Long Island City, NY', 'Los Angeles, CA', 'Los Gatos, CA', 'Louisville, CO', 'Malvern, PA', 'Manhasset, NY', 'Marin City, CA', 'Marina del Rey, CA', 'Marlton, NJ', 'Maywood, IL', 'Menlo Park, CA', 'Mesa, AZ', 'Millbrae, CA', 'Milpitas, CA', 'Monterey Park, CA', 'Montvale, NJ', 'Moorestown, NJ', 'Mooresville, NC', 'Mount Laurel, NJ', 'Mount Vernon, NY', 'Mountain View, CA', 'National City, CA', 'New York, NY', 'Newark, CA', 'Newark, NJ', 'Newport News, VA', 'Newtown Square, PA', 'Newtown, PA', 'Norfolk, VA', 'Norristown, PA', 'Northbrook, IL', 'Northfield, IL', 'Northlake, IL', 'Northridge, CA', 'Novato, CA', 'Oak Brook, IL', 'Oakland, CA', 'Palo Alto, CA', 'Panorama City, CA', 'Paoli, PA', 'Parsippany, NJ', 'Pasadena, CA', 'Pasadena, TX', 'Pearland, TX', 'Philadelphia, PA', 'Phoenix, AZ', 'Pico Rivera, CA', 'Plano, TX', 'Pleasanton, CA', 'Plymouth Meeting, PA', 'Portsmouth, VA', 'Queens Village, NY', 'Radnor, PA', 'Redmond, WA', 'Redwood City, CA', 'Reedley, CA', 'Renton, WA', 'Richardson, TX', 'Ridley Park, PA', 'Riverton, UT', 'Roanoke, TX', 'Rolling Meadows, IL', 'Round Rock, TX', 'Salt Lake City, UT', 'San Antonio, TX', 'San Bruno, CA', 'San Diego, CA', 'San Fernando, CA', 'San Francisco, CA', 'San Jose, CA', 'San Mateo, CA', 'San Rafael, CA', 'San Ramon, CA', 'Sandy, UT', 'Santa Clara, CA', 'Santa Monica, CA', 'Scottsdale, AZ', 'Seattle, WA', 'Secaucus, NJ', 'Signal Hill, CA', 'Smithfield, VA', 'South Plainfield, NJ', 'South San Francisco, CA', 'Southlake, TX', 'Spring, TX', 'Stafford, TX', 'Stanford, CA', 'Staten Island, NY', 'Suffolk, VA', 'Sugar Land, TX', 'Summit, NJ', 'Sunnyvale, CA', 'Tarrant, TX', 'Tempe, AZ', 'Topeka, KS', 'Torrance, CA', 'Union City, CA', 'Valley Stream, NY', 'Venice, CA', 'Virginia Beach, VA', 'Visalia, CA', 'Walnut Creek, CA', 'Wayne, PA', 'Weehawken, NJ', 'West Chester, PA', 'West Conshohocken, PA', 'West Jordan, UT', 'West Lake Hills, TX', 'West Orange, NJ', 'West Point, PA', 'Westerville, OH', 'Westlake, TX', 'Whippany, NJ', 'Whitestown, IN', 'Whittier, CA', 'Wilmington, DE', 'Woodbridge, NJ', 'Woodcliff Lake, NJ', 'Woodland Hills, CA', 'Woodridge, IL', 'Yorktown, VA']\n---------------------------------------\n['Data Analyst, Center on Immigration and Justice (CIJ)'\n 'Quality Data Analyst'\n 'Senior Data Analyst, Insights & Analytics Team [Customer Operations]'\n ... 'Senior Data Analyst (Corporate Audit)'\n 'Technical Business Analyst (SQL, Data analytics, ETL)'\n 'Senior Quality Data Analyst']\n---------------------------------------\n['$110K-$190K (Glassdoor est.)', '$113K-$132K (Glassdoor est.)', '$24K-$48K (Glassdoor est.)', '$26K-$47K (Glassdoor est.)', '$27K-$52K (Glassdoor est.)', '$28K-$52K (Glassdoor est.)', '$29K-$38K (Glassdoor est.)', '$30K-$53K (Glassdoor est.)', '$30K-$54K (Glassdoor est.)', '$31K-$59K (Glassdoor est.)', '$32K-$56K (Glassdoor est.)', '$34K-$61K (Glassdoor est.)', '$35K-$42K (Glassdoor est.)', '$35K-$45K (Glassdoor est.)', '$35K-$67K (Glassdoor est.)', '$36K-$67K (Glassdoor est.)', '$37K-$44K (Glassdoor est.)', '$37K-$66K (Glassdoor est.)', '$37K-$68K (Glassdoor est.)', '$37K-$70K (Glassdoor est.)', '$38K-$68K (Glassdoor est.)', '$40K-$72K (Glassdoor est.)', '$40K-$74K (Glassdoor est.)', '$41K-$78K (Glassdoor est.)', '$41K-$86K (Glassdoor est.)', '$42K-$63K (Glassdoor est.)', '$42K-$66K (Glassdoor est.)', '$42K-$74K (Glassdoor est.)', '$42K-$76K (Glassdoor est.)', '$43K-$69K (Glassdoor est.)', '$43K-$76K (Glassdoor est.)', '$43K-$77K (Glassdoor est.)', '$43K-$94K (Glassdoor est.)', '$44K-$78K (Glassdoor est.)', '$44K-$82K (Glassdoor est.)', '$45K-$78K (Glassdoor est.)', '$45K-$88K (Glassdoor est.)', '$46K-$102K (Glassdoor est.)', '$46K-$86K (Glassdoor est.)', '$46K-$87K (Glassdoor est.)', '$47K-$74K (Glassdoor est.)', '$47K-$76K (Glassdoor est.)', '$47K-$81K (Glassdoor est.)', '$48K-$88K (Glassdoor est.)', '$48K-$96K (Glassdoor est.)', '$49K-$112K (Glassdoor est.)', '$49K-$91K (Glassdoor est.)', '$50K-$86K (Glassdoor est.)', '$50K-$93K (Glassdoor est.)', '$51K-$87K (Glassdoor est.)', '$51K-$88K (Glassdoor est.)', '$51K-$93K (Glassdoor est.)', '$53K-$104K (Glassdoor est.)', '$53K-$94K (Glassdoor est.)', '$53K-$99K (Glassdoor est.)', '$54K-$75K (Glassdoor est.)', '$55K-$101K (Glassdoor est.)', '$55K-$103K (Glassdoor est.)', '$57K-$100K (Glassdoor est.)', '$57K-$103K (Glassdoor est.)', '$57K-$104K (Glassdoor est.)', '$57K-$67K (Glassdoor est.)', '$57K-$70K (Glassdoor est.)', '$58K-$93K (Glassdoor est.)', '$59K-$85K (Glassdoor est.)', '$60K-$110K (Glassdoor est.)', '$60K-$124K (Glassdoor est.)', '$60K-$66K (Glassdoor est.)', '$63K-$116K (Glassdoor est.)', '$64K-$113K (Glassdoor est.)', '$65K-$120K (Glassdoor est.)', '$65K-$81K (Glassdoor est.)', '$67K-$92K (Glassdoor est.)', '$68K-$87K (Glassdoor est.)', '$69K-$127K (Glassdoor est.)', '$73K-$127K (Glassdoor est.)', '$73K-$82K (Glassdoor est.)', '$73K-$89K (Glassdoor est.)', '$74K-$123K (Glassdoor est.)', '$76K-$122K (Glassdoor est.)', '$77K-$132K (Glassdoor est.)', '$78K-$104K (Glassdoor est.)', '$82K-$116K (Glassdoor est.)', '$84K-$90K (Glassdoor est.)', '$89K-$151K (Glassdoor est.)', '$93K-$159K (Glassdoor est.)', '$97K-$129K (Glassdoor est.)', '$98K-$114K (Glassdoor est.)', '$99K-$178K (Glassdoor est.)', '-1']\n"
     ]
    }
   ],
   "source": [
    "print(sorted(job_applying_data.Location.unique()))\n",
    "print(\"---------------------------------------\")\n",
    "print(job_applying_data['Job Title'].unique())\n",
    "print(\"---------------------------------------\")\n",
    "print(sorted(job_applying_data['Salary Estimate'].unique()))"
   ]
  },
  {
   "source": [
    "Rien de particulier à signaler de ce côté. On peut passer à la suite"
   ],
   "cell_type": "markdown",
   "metadata": {}
  },
  {
   "source": [
    "## 6. BDD2 : Des données aberrantes ?"
   ],
   "cell_type": "markdown",
   "metadata": {}
  },
  {
   "cell_type": "code",
   "execution_count": null,
   "metadata": {},
   "outputs": [],
   "source": []
  },
  {
   "source": [
    "## Intégration des données dans les tables de la base de données"
   ],
   "cell_type": "markdown",
   "metadata": {}
  },
  {
   "cell_type": "code",
   "execution_count": 36,
   "metadata": {},
   "outputs": [
    {
     "output_type": "stream",
     "name": "stderr",
     "text": [
      "/home/apprenant/anaconda3/lib/python3.8/site-packages/pandas/core/generic.py:2605: UserWarning: The spaces in these column names will not be changed. In pandas versions < 0.14, spaces were converted to underscores.\n  sql.to_sql(\n"
     ]
    }
   ],
   "source": [
    "save_to_sql(job_applying_data, \"Job_Adverts\", conn)"
   ]
  }
 ]
}